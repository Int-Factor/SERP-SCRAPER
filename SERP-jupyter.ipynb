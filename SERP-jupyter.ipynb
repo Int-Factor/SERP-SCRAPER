{
 "cells": [
  {
   "cell_type": "code",
   "execution_count": 21,
   "id": "46d05215",
   "metadata": {},
   "outputs": [],
   "source": [
    "# IMPORT LIBRARIES\n",
    "import sys\n",
    "import time\n",
    "from time import sleep\n",
    "import random\n",
    "import pandas as pd\n",
    "import numpy as np\n",
    "from bs4 import BeautifulSoup\n",
    "import selenium\n",
    "from selenium import webdriver\n",
    "from selenium.webdriver.common import keys\n",
    "from selenium.webdriver.support.ui import Select\n",
    "from selenium.webdriver.firefox.options import Options as FirefoxOptions\n",
    "from selenium.webdriver.common.keys import Keys\n"
   ]
  },
  {
   "cell_type": "code",
   "execution_count": 22,
   "id": "e9f5e0ee",
   "metadata": {},
   "outputs": [
    {
     "data": {
      "text/plain": [
       "'HEADLESS CODE ENDS HERE'"
      ]
     },
     "execution_count": 22,
     "metadata": {},
     "output_type": "execute_result"
    }
   ],
   "source": [
    "#Driver related to automate browser\n",
    "# GECODRIVER \n",
    "Path = \"geckodriver.exe\"\n",
    "driver = webdriver.Firefox(executable_path = Path)\n",
    "\n",
    "'''WRITE THIS FOR RUNNING GECKODRIVER IN HEADLESS MODE'''\n",
    "\n",
    "# options = FirefoxOptions()\n",
    "# options.add_argument(\"--headless\")\n",
    "# driver = webdriver.Firefox(options=options)\n",
    "\n",
    "'''HEADLESS CODE ENDS HERE'''"
   ]
  },
  {
   "cell_type": "code",
   "execution_count": 23,
   "id": "9f52764b",
   "metadata": {},
   "outputs": [],
   "source": [
    "# utilites functions\n",
    "def bot_random_sleep():\n",
    "    \"\"\"sleep for random time\"\"\"\n",
    "    x = random.randint(3,7)\n",
    "    time.sleep(x)"
   ]
  },
  {
   "cell_type": "code",
   "execution_count": null,
   "id": "bb8223e6",
   "metadata": {},
   "outputs": [],
   "source": [
    "user_input = input('Type crossfit gym name : ')\n",
    "add = user_input.replace(' ', '+')"
   ]
  },
  {
   "cell_type": "code",
   "execution_count": null,
   "id": "4dc90792",
   "metadata": {},
   "outputs": [],
   "source": [
    "# Open Website\n",
    "target_url = \"https://www.google.com/search?q=\" + add\n",
    "page = driver.get(target_url)\n",
    "driver.maximize_window()"
   ]
  },
  {
   "cell_type": "code",
   "execution_count": null,
   "id": "7e811462",
   "metadata": {},
   "outputs": [],
   "source": [
    "html = driver.page_source"
   ]
  },
  {
   "cell_type": "code",
   "execution_count": null,
   "id": "79bd203c",
   "metadata": {},
   "outputs": [],
   "source": [
    "soup = BeautifulSoup(html,'lxml')"
   ]
  },
  {
   "cell_type": "code",
   "execution_count": null,
   "id": "06711d5f",
   "metadata": {},
   "outputs": [],
   "source": [
    "main_div = soup.find('div', attrs = {'id' : 'center_col' , 'class' : 's6JM6d'})\n",
    "required_divs = main_div.find_all('div', attrs = {'class' : 'tF2Cxc'})\n",
    "required_divs"
   ]
  },
  {
   "cell_type": "code",
   "execution_count": null,
   "id": "76c4df37",
   "metadata": {},
   "outputs": [],
   "source": [
    "target_list = None\n",
    "\n",
    "# urls = main_div.find_all('div', attrs = {'class' : 'TbwUpd NJjxre'})\n",
    "# page_name = main_div.find_all('h3', attrs ={'class' : 'LC20lb MBeuO DKV0Md'})\n",
    "# description = main_div.find_all('div', attrs = {'class' : 'NJo7tc Z26q7c uUuwM'})"
   ]
  },
  {
   "cell_type": "code",
   "execution_count": null,
   "id": "18b18bfb",
   "metadata": {},
   "outputs": [],
   "source": [
    "# CREATE EMPTY LIST TO STORE STUFF\n",
    "serp_data_page_1 = []\n",
    "\n",
    "# CREATE EMPTY DICTIONARY\n",
    "serp_page_dict = {}"
   ]
  },
  {
   "cell_type": "code",
   "execution_count": null,
   "id": "e1f35c9d",
   "metadata": {},
   "outputs": [],
   "source": [
    "for items in required_divs:\n",
    "    urls = items.find('div', attrs = {'class' : 'TbwUpd NJjxre'})\n",
    "    page_name = items.find('h3', attrs ={'class' : 'LC20lb MBeuO DKV0Md'})\n",
    "    description = items.find('div', attrs = {'class' : 'lEBKkf'})\n",
    "    print(urls.text)\n",
    "    print(page_name.text)\n",
    "    print(description.text)\n",
    "\n",
    "    # saving these in the dictionary\n",
    "    serp_page_dict['url'] = urls.text\n",
    "    serp_page_dict['webpage_name'] = page_name.text\n",
    "    serp_page_dict['description'] = description.text"
   ]
  },
  {
   "cell_type": "code",
   "execution_count": null,
   "id": "8e06a800",
   "metadata": {},
   "outputs": [],
   "source": []
  },
  {
   "cell_type": "code",
   "execution_count": null,
   "id": "761f6034",
   "metadata": {},
   "outputs": [],
   "source": []
  },
  {
   "cell_type": "code",
   "execution_count": null,
   "id": "3264b8d4",
   "metadata": {},
   "outputs": [],
   "source": []
  }
 ],
 "metadata": {
  "kernelspec": {
   "display_name": "Python 3 (ipykernel)",
   "language": "python",
   "name": "python3"
  },
  "language_info": {
   "codemirror_mode": {
    "name": "ipython",
    "version": 3
   },
   "file_extension": ".py",
   "mimetype": "text/x-python",
   "name": "python",
   "nbconvert_exporter": "python",
   "pygments_lexer": "ipython3",
   "version": "3.7.6"
  }
 },
 "nbformat": 4,
 "nbformat_minor": 5
}
