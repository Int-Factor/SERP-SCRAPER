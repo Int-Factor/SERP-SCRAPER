{
 "cells": [
  {
   "cell_type": "code",
   "execution_count": 1,
   "id": "46d05215",
   "metadata": {},
   "outputs": [],
   "source": [
    "# IMPORT LIBRARIES\n",
    "import sys\n",
    "import time\n",
    "from time import sleep\n",
    "import random\n",
    "import pandas as pd\n",
    "import numpy as np\n",
    "from bs4 import BeautifulSoup\n",
    "import selenium\n",
    "from selenium import webdriver\n",
    "from selenium.webdriver.common import keys\n",
    "from selenium.webdriver.support.ui import Select\n",
    "from selenium.webdriver.firefox.options import Options as FirefoxOptions\n",
    "from selenium.webdriver.common.keys import Keys\n"
   ]
  },
  {
   "cell_type": "code",
   "execution_count": 2,
   "id": "e9f5e0ee",
   "metadata": {},
   "outputs": [
    {
     "data": {
      "text/plain": [
       "'HEADLESS CODE ENDS HERE'"
      ]
     },
     "execution_count": 2,
     "metadata": {},
     "output_type": "execute_result"
    }
   ],
   "source": [
    "#Driver related to automate browser\n",
    "# GECODRIVER \n",
    "Path = \"geckodriver.exe\"\n",
    "driver = webdriver.Firefox(executable_path = Path)\n",
    "\n",
    "'''WRITE THIS FOR RUNNING GECKODRIVER IN HEADLESS MODE'''\n",
    "\n",
    "# options = FirefoxOptions()\n",
    "# options.add_argument(\"--headless\")\n",
    "# driver = webdriver.Firefox(options=options)\n",
    "\n",
    "'''HEADLESS CODE ENDS HERE'''"
   ]
  },
  {
   "cell_type": "code",
   "execution_count": 3,
   "id": "9f52764b",
   "metadata": {},
   "outputs": [],
   "source": [
    "# utilites functions\n",
    "def bot_random_sleep():\n",
    "    \"\"\"sleep for random time\"\"\"\n",
    "    x = random.randint(3,7)\n",
    "    time.sleep(x)"
   ]
  },
  {
   "cell_type": "code",
   "execution_count": 4,
   "id": "bb8223e6",
   "metadata": {},
   "outputs": [
    {
     "name": "stdout",
     "output_type": "stream",
     "text": [
      "Type crossfit gym name : crossfit boss\n"
     ]
    }
   ],
   "source": [
    "user_input = input('Type crossfit gym name : ')\n",
    "add = user_input.replace(' ', '+')"
   ]
  },
  {
   "cell_type": "code",
   "execution_count": 5,
   "id": "4dc90792",
   "metadata": {},
   "outputs": [],
   "source": [
    "# Open Website\n",
    "target_url = \"https://www.google.com/search?q=\" + add\n",
    "page = driver.get(target_url)\n",
    "driver.maximize_window()"
   ]
  },
  {
   "cell_type": "code",
   "execution_count": 6,
   "id": "7e811462",
   "metadata": {},
   "outputs": [],
   "source": [
    "html = driver.page_source"
   ]
  },
  {
   "cell_type": "code",
   "execution_count": 7,
   "id": "79bd203c",
   "metadata": {},
   "outputs": [],
   "source": [
    "soup = BeautifulSoup(html,'lxml')"
   ]
  },
  {
   "cell_type": "code",
   "execution_count": 8,
   "id": "06711d5f",
   "metadata": {},
   "outputs": [],
   "source": [
    "main_div = soup.find('div', attrs = {'id' : 'center_col' , 'class' : 's6JM6d'})\n",
    "required_divs = main_div.find_all('div', attrs = {'class' : 'tF2Cxc'})\n",
    "# required_divs"
   ]
  },
  {
   "cell_type": "code",
   "execution_count": 9,
   "id": "76c4df37",
   "metadata": {},
   "outputs": [],
   "source": [
    "target_list = None\n",
    "\n",
    "# urls = main_div.find_all('div', attrs = {'class' : 'TbwUpd NJjxre'})\n",
    "# page_name = main_div.find_all('h3', attrs ={'class' : 'LC20lb MBeuO DKV0Md'})\n",
    "# description = main_div.find_all('div', attrs = {'class' : 'NJo7tc Z26q7c uUuwM'})"
   ]
  },
  {
   "cell_type": "code",
   "execution_count": 10,
   "id": "c12ac5d8",
   "metadata": {},
   "outputs": [],
   "source": [
    "# CREATE EMPTY LIST TO STORE STUFF\n",
    "serp_data_page_1 = []\n",
    "\n",
    "# CREATE EMPTY DICTIONARY\n",
    "serp_page_dict = {}"
   ]
  },
  {
   "cell_type": "code",
   "execution_count": 19,
   "id": "bd3db996",
   "metadata": {},
   "outputs": [
    {
     "name": "stdout",
     "output_type": "stream",
     "text": [
      "https://chaalkbox.com.au › classes › crossfitboss\n",
      "https://games.crossfit.com › affiliate\n",
      "https://www.menshealth.com › fitness › crossfit-ceo-eric...\n",
      "https://www.thefitlist.com.au › listing › crossfit-boss-ca...\n",
      "https://www.pinterest.com › crossfit_boss\n",
      "https://www.pinterest.com › ... › Crossfit\n",
      "https://www.theguardian.com › us-news › jun › greg-gl...\n",
      "https://www.bbc.com › world-us-canada-52988959\n"
     ]
    }
   ],
   "source": [
    "# for items in required_divs:\n",
    "\n",
    "urls = main_div.find_all('div', attrs = {'class' : 'TbwUpd NJjxre'})\n",
    "for x in urls:\n",
    "    print(x.text)\n",
    "        \n",
    "#     page_name = items.find('h3', attrs ={'class' : 'LC20lb MBeuO DKV0Md'})\n",
    "#     description = items.find('div', attrs = {'class' : 'lEBKkf'})\n",
    "    \n",
    "#     if description is not None:\n",
    "#         description = description.text\n",
    "#     else:\n",
    "#         description = items.find('div', attrs = {'class' : 'NJo7tc Z26q7c uUuwM'})\n",
    "#         if description is not None:        \n",
    "#             description = description.text\n",
    "#         else:\n",
    "#             description = None\n",
    "\n",
    "#     print(req_urls)\n",
    "#     print(page_name.text)\n",
    "#     print(description)\n",
    "    \n",
    "#     temp_dict = {}\n",
    "    \n",
    "#     # saving these in the dictionary\n",
    "#     temp_dict['url'] = req_urls\n",
    "#     temp_dict['webpage_name'] = page_name.text\n",
    "#     temp_dict['description'] = description\n",
    "    \n",
    "#     serp_data_page_1.append(temp_dict)"
   ]
  },
  {
   "cell_type": "code",
   "execution_count": 12,
   "id": "e6bba0ad",
   "metadata": {},
   "outputs": [
    {
     "data": {
      "text/plain": [
       "[]"
      ]
     },
     "execution_count": 12,
     "metadata": {},
     "output_type": "execute_result"
    }
   ],
   "source": [
    "serp_data_page_1"
   ]
  },
  {
   "cell_type": "code",
   "execution_count": null,
   "id": "9891ba90",
   "metadata": {},
   "outputs": [],
   "source": []
  }
 ],
 "metadata": {
  "kernelspec": {
   "display_name": "Python 3 (ipykernel)",
   "language": "python",
   "name": "python3"
  },
  "language_info": {
   "codemirror_mode": {
    "name": "ipython",
    "version": 3
   },
   "file_extension": ".py",
   "mimetype": "text/x-python",
   "name": "python",
   "nbconvert_exporter": "python",
   "pygments_lexer": "ipython3",
   "version": "3.7.6"
  }
 },
 "nbformat": 4,
 "nbformat_minor": 5
}
