{
 "cells": [
  {
   "cell_type": "code",
   "execution_count": 1,
   "id": "46d05215",
   "metadata": {},
   "outputs": [],
   "source": [
    "# IMPORT LIBRARIES\n",
    "import sys\n",
    "import time\n",
    "from time import sleep\n",
    "import random\n",
    "import pandas as pd\n",
    "import numpy as np\n",
    "from bs4 import BeautifulSoup\n",
    "import selenium\n",
    "from selenium import webdriver\n",
    "from selenium.webdriver.common import keys\n",
    "from selenium.webdriver.support.ui import Select\n",
    "from selenium.webdriver.firefox.options import Options as FirefoxOptions\n",
    "from selenium.webdriver.common.keys import Keys\n"
   ]
  },
  {
   "cell_type": "code",
   "execution_count": 2,
   "id": "e9f5e0ee",
   "metadata": {},
   "outputs": [
    {
     "data": {
      "text/plain": [
       "'HEADLESS CODE ENDS HERE'"
      ]
     },
     "execution_count": 2,
     "metadata": {},
     "output_type": "execute_result"
    }
   ],
   "source": [
    "#Driver related to automate browser\n",
    "# GECODRIVER \n",
    "Path = \"geckodriver.exe\"\n",
    "driver = webdriver.Firefox(executable_path = Path)\n",
    "\n",
    "'''WRITE THIS FOR RUNNING GECKODRIVER IN HEADLESS MODE'''\n",
    "\n",
    "# options = FirefoxOptions()\n",
    "# options.add_argument(\"--headless\")\n",
    "# driver = webdriver.Firefox(options=options)\n",
    "\n",
    "'''HEADLESS CODE ENDS HERE'''"
   ]
  },
  {
   "cell_type": "code",
   "execution_count": 3,
   "id": "9f52764b",
   "metadata": {},
   "outputs": [],
   "source": [
    "# utilites functions\n",
    "def bot_random_sleep():\n",
    "    \"\"\"sleep for random time\"\"\"\n",
    "    x = random.randint(3,7)\n",
    "    time.sleep(x)"
   ]
  },
  {
   "cell_type": "code",
   "execution_count": 4,
   "id": "bb8223e6",
   "metadata": {},
   "outputs": [
    {
     "name": "stdout",
     "output_type": "stream",
     "text": [
      "Type crossfit gym name : CrossFit Madison\n"
     ]
    }
   ],
   "source": [
    "user_input = input('Type crossfit gym name : ')\n",
    "add = user_input.replace(' ', '+')"
   ]
  },
  {
   "cell_type": "code",
   "execution_count": 5,
   "id": "4dc90792",
   "metadata": {},
   "outputs": [],
   "source": [
    "# Open Website\n",
    "target_url = \"https://www.google.com/search?q=\" + add\n",
    "page = driver.get(target_url)\n",
    "driver.maximize_window()"
   ]
  },
  {
   "cell_type": "code",
   "execution_count": 6,
   "id": "7e811462",
   "metadata": {},
   "outputs": [],
   "source": [
    "html = driver.page_source"
   ]
  },
  {
   "cell_type": "code",
   "execution_count": 7,
   "id": "79bd203c",
   "metadata": {},
   "outputs": [],
   "source": [
    "soup = BeautifulSoup(html,'lxml')"
   ]
  },
  {
   "cell_type": "code",
   "execution_count": 8,
   "id": "06711d5f",
   "metadata": {},
   "outputs": [
    {
     "data": {
      "text/plain": [
       "[<div class=\"g tF2Cxc\" data-hveid=\"CAwQAA\" data-ved=\"2ahUKEwi1tOXqx7H3AhWf63MBHS3_DG4QtgIoAHoECAwQAA\" style=\"width:600px\"><div class=\"jtfYYd\" data-sokoban-container=\"SOKOBAN_\"><div class=\"NJo7tc Z26q7c jGGQ5e\" data-header-feature=\"0\"><div class=\"yuRUbf\"><a data-jsarwt=\"1\" data-usg=\"AOvVaw3cgFi1dY5cHyJA4j_MFt7A\" data-ved=\"2ahUKEwi1tOXqx7H3AhWf63MBHS3_DG4QtwJ6BAgHEAE\" href=\"https://www.visitmadison.com/crossfit-games/\"><br/><h3 class=\"LC20lb MBeuO DKV0Md\">the 2022 nobull crossfit games - Destination Madison</h3><div class=\"TbwUpd NJjxre\"><cite class=\"iUh30 qLRx3b tjvcx\" role=\"text\">https://www.visitmadison.com<span class=\"dyjrff qzEoUe\" role=\"text\"> › crossfit-games</span></cite></div></a><div class=\"B6fmyf\"><div class=\"TbwUpd\"><cite class=\"iUh30 qLRx3b tjvcx\" role=\"text\">https://www.visitmadison.com<span class=\"dyjrff qzEoUe\" role=\"text\"> › crossfit-games</span></cite></div><div class=\"eFM0qc\"></div><div class=\"csDOgf\"><div data-acc=\"n\" data-enjspb=\"true\" data-isdesktop=\"true\" data-ved=\"2ahUKEwi1tOXqx7H3AhWf63MBHS3_DG4Q2esEegQIBxAE\" jscontroller=\"exgaYe\" jsdata=\"l7Bhpb;_;CWS4zg\"><div jsaction=\"KyPa0e:RvIhPd;wjOG7e:edHC5b;al5F3e:edHC5b;\"><div aria-label=\"About this Result\" class=\"iTPLzd GUHazd lUn2nc eY4mx\" jsaction=\"RvIhPd\" jsname=\"I3kE2c\" role=\"button\" style=\"padding-bottom:20px;padding-right:5px;position:absolute\" tabindex=\"0\"><span class=\"D6lY4c\" jsname=\"czHhOd\"><span class=\"xTFaxe IjabWd z1asCe SaPW2b\" jsname=\"Bil8Ae\" style=\"height:18px;line-height:18px;width:18px\"><svg focusable=\"false\" viewbox=\"0 0 24 24\" xmlns=\"http://www.w3.org/2000/svg\"><path d=\"M12 8c1.1 0 2-.9 2-2s-.9-2-2-2-2 .9-2 2 .9 2 2 2zm0 2c-1.1 0-2 .9-2 2s.9 2 2 2 2-.9 2-2-.9-2-2-2zm0 6c-1.1 0-2 .9-2 2s.9 2 2 2 2-.9 2-2-.9-2-2-2z\"></path></svg></span></span></div><span data-ved=\"2ahUKEwi1tOXqx7H3AhWf63MBHS3_DG4Qh-4GegQIBxAF\" jsdata=\"l7Bhpb;_;CWS4zA cECq7c;_;CWS4zk\" jsmodel=\"QaFSEb\" jsname=\"zOVa8\"></span></div></div></div></div></div></div><div class=\"NJo7tc Z26q7c uUuwM\" data-content-feature=\"1\"><div class=\"VwiC3b yXK7lf MUxGbd yDYNvb lyLwlc lEBKkf\" style=\"-webkit-line-clamp:2\"><span>Elite athletes from around the globe return to <em>Madison</em>, WI for the 2021 NOBULL <em>CrossFit</em> Games.</span></div></div><div class=\"NJo7tc Z26q7c\" data-content-feature=\"2\"><div class=\"fG8Fp uo4vr\">13-Jul-2017 · <span>Uploaded by CrossFit Games</span></div></div></div></div>,\n",
       " <div class=\"g tF2Cxc\" data-hveid=\"CAkQAA\" data-ved=\"2ahUKEwi1tOXqx7H3AhWf63MBHS3_DG4QFSgAegQICRAA\" style=\"width:600px\"><div class=\"jtfYYd\" data-sokoban-container=\"SOKOBAN_17744389080270689153\"><div class=\"NJo7tc Z26q7c jGGQ5e\" data-header-feature=\"0\"><div class=\"yuRUbf\"><a data-jsarwt=\"1\" data-usg=\"AOvVaw2MdnyytEJX5vEzz0DKzdJD\" data-ved=\"2ahUKEwi1tOXqx7H3AhWf63MBHS3_DG4QFnoECAQQAQ\" href=\"https://crossfitmadison.com/\"><br/><h3 class=\"LC20lb MBeuO DKV0Md\">CrossFit Madison</h3><div class=\"TbwUpd NJjxre\"><cite class=\"iUh30 tjvcx\" role=\"text\">https://crossfitmadison.com</cite></div></a><div class=\"B6fmyf\"><div class=\"TbwUpd\"><cite class=\"iUh30 tjvcx\" role=\"text\">https://crossfitmadison.com</cite></div><div class=\"eFM0qc\"></div><div class=\"csDOgf\"><div data-acc=\"n\" data-enjspb=\"true\" data-isdesktop=\"true\" data-ved=\"2ahUKEwi1tOXqx7H3AhWf63MBHS3_DG4Q2esEegQIBBAC\" jscontroller=\"exgaYe\" jsdata=\"l7Bhpb;_;CWS4zQ\"><div jsaction=\"KyPa0e:RvIhPd;wjOG7e:edHC5b;al5F3e:edHC5b;\"><div aria-label=\"About this Result\" class=\"iTPLzd GUHazd lUn2nc eY4mx\" jsaction=\"RvIhPd\" jsname=\"I3kE2c\" role=\"button\" style=\"padding-bottom:20px;padding-right:5px;position:absolute\" tabindex=\"0\"><span class=\"D6lY4c\" jsname=\"czHhOd\"><span class=\"xTFaxe IjabWd z1asCe SaPW2b\" jsname=\"Bil8Ae\" style=\"height:18px;line-height:18px;width:18px\"><svg focusable=\"false\" viewbox=\"0 0 24 24\" xmlns=\"http://www.w3.org/2000/svg\"><path d=\"M12 8c1.1 0 2-.9 2-2s-.9-2-2-2-2 .9-2 2 .9 2 2 2zm0 2c-1.1 0-2 .9-2 2s.9 2 2 2 2-.9 2-2-.9-2-2-2zm0 6c-1.1 0-2 .9-2 2s.9 2 2 2 2-.9 2-2-.9-2-2-2z\"></path></svg></span></span></div><span data-ved=\"2ahUKEwi1tOXqx7H3AhWf63MBHS3_DG4Qh-4GegQIBBAD\" jsdata=\"l7Bhpb;_;CWS4zA cECq7c;_;CWS4zU\" jsmodel=\"QaFSEb\" jsname=\"zOVa8\"></span></div></div></div></div></div></div><div class=\"NJo7tc Z26q7c uUuwM\" data-content-feature=\"1\"><div class=\"VwiC3b yXK7lf MUxGbd yDYNvb lyLwlc lEBKkf\" style=\"-webkit-line-clamp:2\">Our trainers take your fitness goals seriously. We understand that losing weight and gaining muscle can be challenging, and our goal is to help you overcome ...</div></div><div class=\"NJo7tc Z26q7c\"><div data-ved=\"2ahUKEwi1tOXqx7H3AhWf63MBHS3_DG4Q2Z0BegQIAxAA\" id=\"eob_1\" jsaction=\"rcuQ6b:npT2md\" jscontroller=\"K6HGfd\" jsdata=\"fxg5tf;_;CWS4zI\"></div></div></div></div>,\n",
       " <div class=\"g tF2Cxc\" data-hveid=\"CEMQAA\" data-ved=\"2ahUKEwi1tOXqx7H3AhWf63MBHS3_DG4QFSgAegQIQxAA\" style=\"width:600px\"><div class=\"jtfYYd\" data-sokoban-container=\"SOKOBAN_12626295382178863489\"><div class=\"NJo7tc Z26q7c jGGQ5e\" data-header-feature=\"0\"><div class=\"yuRUbf\"><a data-jsarwt=\"1\" data-usg=\"AOvVaw2zH0x7q_MoppvPDkTWZeUc\" data-ved=\"2ahUKEwi1tOXqx7H3AhWf63MBHS3_DG4QFnoECC0QAQ\" href=\"https://www.facebook.com/CrossFitMadison/\"><br/><h3 class=\"LC20lb MBeuO DKV0Md\">CrossFit Madison - Home | Facebook</h3><div class=\"TbwUpd NJjxre\"><cite class=\"iUh30 qLRx3b tjvcx\" role=\"text\">https://www.facebook.com<span class=\"dyjrff qzEoUe\" role=\"text\"> › CrossFitMadison</span></cite></div></a><div class=\"B6fmyf\"><div class=\"TbwUpd\"><cite class=\"iUh30 qLRx3b tjvcx\" role=\"text\">https://www.facebook.com<span class=\"dyjrff qzEoUe\" role=\"text\"> › CrossFitMadison</span></cite></div><div class=\"eFM0qc\"></div><div class=\"csDOgf\"><div data-acc=\"n\" data-enjspb=\"true\" data-isdesktop=\"true\" data-ved=\"2ahUKEwi1tOXqx7H3AhWf63MBHS3_DG4Q2esEegQILRAE\" jscontroller=\"exgaYe\" jsdata=\"l7Bhpb;_;CWS41U\"><div jsaction=\"KyPa0e:RvIhPd;wjOG7e:edHC5b;al5F3e:edHC5b;\"><div aria-label=\"About this Result\" class=\"iTPLzd GUHazd lUn2nc eY4mx\" jsaction=\"RvIhPd\" jsname=\"I3kE2c\" role=\"button\" style=\"padding-bottom:20px;padding-right:5px;position:absolute\" tabindex=\"0\"><span class=\"D6lY4c\" jsname=\"czHhOd\"><span class=\"xTFaxe IjabWd z1asCe SaPW2b\" jsname=\"Bil8Ae\" style=\"height:18px;line-height:18px;width:18px\"><svg focusable=\"false\" viewbox=\"0 0 24 24\" xmlns=\"http://www.w3.org/2000/svg\"><path d=\"M12 8c1.1 0 2-.9 2-2s-.9-2-2-2-2 .9-2 2 .9 2 2 2zm0 2c-1.1 0-2 .9-2 2s.9 2 2 2 2-.9 2-2-.9-2-2-2zm0 6c-1.1 0-2 .9-2 2s.9 2 2 2 2-.9 2-2-.9-2-2-2z\"></path></svg></span></span></div><span data-ved=\"2ahUKEwi1tOXqx7H3AhWf63MBHS3_DG4Qh-4GegQILRAF\" jsdata=\"l7Bhpb;_;CWS4zA cECq7c;_;CWS41Y\" jsmodel=\"QaFSEb\" jsname=\"zOVa8\"></span></div></div></div></div></div></div><div class=\"NJo7tc Z26q7c uUuwM\" data-content-feature=\"1\"><div class=\"VwiC3b yXK7lf MUxGbd yDYNvb lyLwlc lEBKkf\" style=\"-webkit-line-clamp:2\"><span>We are the premier <em>CrossFit</em> gym located in <em>Madison</em>, AL. We are dedicated to improving your life in... 970-A Balch Rd, <em>Madison</em>, AL 35758.</span></div></div><div class=\"NJo7tc Z26q7c\" data-content-feature=\"2\"><div class=\"fG8Fp uo4vr\"><g-review-stars aria-hidden=\"true\"><span class=\"Fam1ne tPhRLe\" role=\"img\"><span style=\"width:66px\"></span></span></g-review-stars> <span>Rating: 5</span> · ‎<span>50 votes</span> · ‎<span>Price range: $$</span></div></div><div class=\"NJo7tc Z26q7c\"><div data-ved=\"2ahUKEwi1tOXqx7H3AhWf63MBHS3_DG4Q2Z0BegQIKBAA\" id=\"eob_6\" jsaction=\"rcuQ6b:npT2md\" jscontroller=\"K6HGfd\" jsdata=\"fxg5tf;_;CWS40w\"></div></div></div></div>,\n",
       " <div class=\"g tF2Cxc\" data-hveid=\"CDoQAA\" data-ved=\"2ahUKEwi1tOXqx7H3AhWf63MBHS3_DG4QFSgAegQIOhAA\" style=\"width:600px\"><div class=\"jtfYYd\" data-sokoban-container=\"SOKOBAN_9749316036623727330\"><div class=\"NJo7tc Z26q7c jGGQ5e\" data-header-feature=\"0\"><div class=\"yuRUbf\"><a data-jsarwt=\"1\" data-usg=\"AOvVaw21ZKsXwtMZVqxCw53DxjZ2\" data-ved=\"2ahUKEwi1tOXqx7H3AhWf63MBHS3_DG4QFnoECCoQAQ\" href=\"https://www.crossfitconnex.com/\"><br/><h3 class=\"LC20lb MBeuO DKV0Md\">CrossFit Connex | Forging Elite Fitness | CrossFit Madison, WI</h3><div class=\"TbwUpd NJjxre\"><cite class=\"iUh30 tjvcx\" role=\"text\">https://www.crossfitconnex.com</cite></div></a><div class=\"B6fmyf\"><div class=\"TbwUpd\"><cite class=\"iUh30 tjvcx\" role=\"text\">https://www.crossfitconnex.com</cite></div><div class=\"eFM0qc\"></div><div class=\"csDOgf\"><div data-acc=\"n\" data-enjspb=\"true\" data-isdesktop=\"true\" data-ved=\"2ahUKEwi1tOXqx7H3AhWf63MBHS3_DG4Q2esEegQIKhAC\" jscontroller=\"exgaYe\" jsdata=\"l7Bhpb;_;CWS404\"><div jsaction=\"KyPa0e:RvIhPd;wjOG7e:edHC5b;al5F3e:edHC5b;\"><div aria-label=\"About this Result\" class=\"iTPLzd GUHazd lUn2nc eY4mx\" jsaction=\"RvIhPd\" jsname=\"I3kE2c\" role=\"button\" style=\"padding-bottom:20px;padding-right:5px;position:absolute\" tabindex=\"0\"><span class=\"D6lY4c\" jsname=\"czHhOd\"><span class=\"xTFaxe IjabWd z1asCe SaPW2b\" jsname=\"Bil8Ae\" style=\"height:18px;line-height:18px;width:18px\"><svg focusable=\"false\" viewbox=\"0 0 24 24\" xmlns=\"http://www.w3.org/2000/svg\"><path d=\"M12 8c1.1 0 2-.9 2-2s-.9-2-2-2-2 .9-2 2 .9 2 2 2zm0 2c-1.1 0-2 .9-2 2s.9 2 2 2 2-.9 2-2-.9-2-2-2zm0 6c-1.1 0-2 .9-2 2s.9 2 2 2 2-.9 2-2-.9-2-2-2z\"></path></svg></span></span></div><span data-ved=\"2ahUKEwi1tOXqx7H3AhWf63MBHS3_DG4Qh-4GegQIKhAD\" jsdata=\"l7Bhpb;_;CWS4zA cECq7c;_;CWS41M\" jsmodel=\"QaFSEb\" jsname=\"zOVa8\"></span></div></div></div></div></div></div><div class=\"NJo7tc Z26q7c uUuwM\" data-content-feature=\"1\"><div class=\"VwiC3b yXK7lf MUxGbd yDYNvb lyLwlc lEBKkf\" style=\"-webkit-line-clamp:2\"><span><em>CrossFit</em> Connex is a fitness-training center in <em>Madison</em>, Wisconsin that provides a total fitness experience in both group and individual workout ...</span></div></div><div class=\"NJo7tc Z26q7c\"><div data-ved=\"2ahUKEwi1tOXqx7H3AhWf63MBHS3_DG4Q2Z0BegQIJhAA\" id=\"eob_3\" jsaction=\"rcuQ6b:npT2md\" jscontroller=\"K6HGfd\" jsdata=\"fxg5tf;_;CWS40g\"></div></div></div></div>,\n",
       " <div class=\"g tF2Cxc\" data-hveid=\"CDgQAA\" data-ved=\"2ahUKEwi1tOXqx7H3AhWf63MBHS3_DG4QFSgAegQIOBAA\" style=\"width:600px\"><div class=\"jtfYYd\" data-sokoban-container=\"SOKOBAN_13644369176888888552\"><div class=\"NJo7tc Z26q7c jGGQ5e\" data-header-feature=\"0\"><div class=\"yuRUbf\"><a data-jsarwt=\"1\" data-usg=\"AOvVaw1RHkQF-HKn_ltzEwZyYjop\" data-ved=\"2ahUKEwi1tOXqx7H3AhWf63MBHS3_DG4QFnoECCkQAQ\" href=\"https://www.hammonassetcrossfit.com/\"><br/><h3 class=\"LC20lb MBeuO DKV0Md\">Hammonasset CrossFit - Madison, CT</h3><div class=\"TbwUpd NJjxre\"><cite class=\"iUh30 tjvcx\" role=\"text\">https://www.hammonassetcrossfit.com</cite></div></a><div class=\"B6fmyf\"><div class=\"TbwUpd\"><cite class=\"iUh30 tjvcx\" role=\"text\">https://www.hammonassetcrossfit.com</cite></div><div class=\"eFM0qc\"></div><div class=\"csDOgf\"><div data-acc=\"n\" data-enjspb=\"true\" data-isdesktop=\"true\" data-ved=\"2ahUKEwi1tOXqx7H3AhWf63MBHS3_DG4Q2esEegQIKRAC\" jscontroller=\"exgaYe\" jsdata=\"l7Bhpb;_;CWS400\"><div jsaction=\"KyPa0e:RvIhPd;wjOG7e:edHC5b;al5F3e:edHC5b;\"><div aria-label=\"About this Result\" class=\"iTPLzd GUHazd lUn2nc eY4mx\" jsaction=\"RvIhPd\" jsname=\"I3kE2c\" role=\"button\" style=\"padding-bottom:20px;padding-right:5px;position:absolute\" tabindex=\"0\"><span class=\"D6lY4c\" jsname=\"czHhOd\"><span class=\"xTFaxe IjabWd z1asCe SaPW2b\" jsname=\"Bil8Ae\" style=\"height:18px;line-height:18px;width:18px\"><svg focusable=\"false\" viewbox=\"0 0 24 24\" xmlns=\"http://www.w3.org/2000/svg\"><path d=\"M12 8c1.1 0 2-.9 2-2s-.9-2-2-2-2 .9-2 2 .9 2 2 2zm0 2c-1.1 0-2 .9-2 2s.9 2 2 2 2-.9 2-2-.9-2-2-2zm0 6c-1.1 0-2 .9-2 2s.9 2 2 2 2-.9 2-2-.9-2-2-2z\"></path></svg></span></span></div><span data-ved=\"2ahUKEwi1tOXqx7H3AhWf63MBHS3_DG4Qh-4GegQIKRAD\" jsdata=\"l7Bhpb;_;CWS4zA cECq7c;_;CWS41E\" jsmodel=\"QaFSEb\" jsname=\"zOVa8\"></span></div></div></div></div></div></div><div class=\"NJo7tc Z26q7c uUuwM\" data-content-feature=\"1\"><div class=\"VwiC3b yXK7lf MUxGbd yDYNvb lyLwlc lEBKkf\" style=\"-webkit-line-clamp:2\"><span>Hammonasset <em>CrossFit</em> - <em>Madison</em>, CT - Hammonasset Crossfit is a full service health and fitness facility based in Madison Connecticut.</span></div></div><div class=\"NJo7tc Z26q7c\"><div data-ved=\"2ahUKEwi1tOXqx7H3AhWf63MBHS3_DG4Q2Z0BegQIJBAA\" id=\"eob_2\" jsaction=\"rcuQ6b:npT2md\" jscontroller=\"K6HGfd\" jsdata=\"fxg5tf;_;CWS40c\"></div></div></div></div>,\n",
       " <div class=\"g tF2Cxc\" data-hveid=\"CDsQAA\" data-ved=\"2ahUKEwi1tOXqx7H3AhWf63MBHS3_DG4QFSgAegQIOxAA\" style=\"width:600px\"><div class=\"jtfYYd\" data-sokoban-container=\"SOKOBAN_17048209970650524435\"><div class=\"NJo7tc Z26q7c jGGQ5e\" data-header-feature=\"0\"><div class=\"yuRUbf\"><a data-jsarwt=\"1\" data-usg=\"AOvVaw1AS38rPWj_bYS0JcNKs8JK\" data-ved=\"2ahUKEwi1tOXqx7H3AhWf63MBHS3_DG4QFnoECCwQAQ\" href=\"https://crossfitcitrine.com/\"><br/><h3 class=\"LC20lb MBeuO DKV0Md\">CrossFit Citrine - Quite Possibly The Best Gym in Madison</h3><div class=\"TbwUpd NJjxre\"><cite class=\"iUh30 tjvcx\" role=\"text\">https://crossfitcitrine.com</cite></div></a><div class=\"B6fmyf\"><div class=\"TbwUpd\"><cite class=\"iUh30 tjvcx\" role=\"text\">https://crossfitcitrine.com</cite></div><div class=\"eFM0qc\"></div><div class=\"csDOgf\"><div data-acc=\"n\" data-enjspb=\"true\" data-isdesktop=\"true\" data-ved=\"2ahUKEwi1tOXqx7H3AhWf63MBHS3_DG4Q2esEegQILBAC\" jscontroller=\"exgaYe\" jsdata=\"l7Bhpb;_;CWS41A\"><div jsaction=\"KyPa0e:RvIhPd;wjOG7e:edHC5b;al5F3e:edHC5b;\"><div aria-label=\"About this Result\" class=\"iTPLzd GUHazd lUn2nc eY4mx\" jsaction=\"RvIhPd\" jsname=\"I3kE2c\" role=\"button\" style=\"padding-bottom:20px;padding-right:5px;position:absolute\" tabindex=\"0\"><span class=\"D6lY4c\" jsname=\"czHhOd\"><span class=\"xTFaxe IjabWd z1asCe SaPW2b\" jsname=\"Bil8Ae\" style=\"height:18px;line-height:18px;width:18px\"><svg focusable=\"false\" viewbox=\"0 0 24 24\" xmlns=\"http://www.w3.org/2000/svg\"><path d=\"M12 8c1.1 0 2-.9 2-2s-.9-2-2-2-2 .9-2 2 .9 2 2 2zm0 2c-1.1 0-2 .9-2 2s.9 2 2 2 2-.9 2-2-.9-2-2-2zm0 6c-1.1 0-2 .9-2 2s.9 2 2 2 2-.9 2-2-.9-2-2-2z\"></path></svg></span></span></div><span data-ved=\"2ahUKEwi1tOXqx7H3AhWf63MBHS3_DG4Qh-4GegQILBAD\" jsdata=\"l7Bhpb;_;CWS4zA cECq7c;_;CWS41Q\" jsmodel=\"QaFSEb\" jsname=\"zOVa8\"></span></div></div></div></div></div></div><div class=\"NJo7tc Z26q7c uUuwM\" data-content-feature=\"1\"><div class=\"VwiC3b yXK7lf MUxGbd yDYNvb lyLwlc lEBKkf\" style=\"-webkit-line-clamp:2\"><span><em>CrossFit</em> Citrine is a community-driven gym located in <em>Madison</em> with group classes where you can improve your fitness and live a healthier, fuller life.</span></div></div><div class=\"NJo7tc Z26q7c\"><div data-ved=\"2ahUKEwi1tOXqx7H3AhWf63MBHS3_DG4Q2Z0BegQIJxAA\" id=\"eob_5\" jsaction=\"rcuQ6b:npT2md\" jscontroller=\"K6HGfd\" jsdata=\"fxg5tf;_;CWS40k\"></div></div></div></div>,\n",
       " <div class=\"g tF2Cxc\" data-hveid=\"CDkQAA\" data-ved=\"2ahUKEwi1tOXqx7H3AhWf63MBHS3_DG4QFSgAegQIORAA\" style=\"width:600px\"><div class=\"jtfYYd\" data-sokoban-container=\"SOKOBAN_4914255359582430410\"><div class=\"NJo7tc Z26q7c jGGQ5e\" data-header-feature=\"0\"><div class=\"yuRUbf\"><a data-jsarwt=\"1\" data-usg=\"AOvVaw3rCpNSHMyCHkqrHa2xOkYC\" data-ved=\"2ahUKEwi1tOXqx7H3AhWf63MBHS3_DG4QFnoECCsQAQ\" href=\"https://recursivefitness.com/\"><br/><h3 class=\"LC20lb MBeuO DKV0Md\">CrossFit Recursive | CrossFit, Personal Training, Nutrition and ...</h3><div class=\"TbwUpd NJjxre\"><cite class=\"iUh30 tjvcx\" role=\"text\">https://recursivefitness.com</cite></div></a><div class=\"B6fmyf\"><div class=\"TbwUpd\"><cite class=\"iUh30 tjvcx\" role=\"text\">https://recursivefitness.com</cite></div><div class=\"eFM0qc\"></div><div class=\"csDOgf\"><div data-acc=\"n\" data-enjspb=\"true\" data-isdesktop=\"true\" data-ved=\"2ahUKEwi1tOXqx7H3AhWf63MBHS3_DG4Q2esEegQIKxAC\" jscontroller=\"exgaYe\" jsdata=\"l7Bhpb;_;CWS408\"><div jsaction=\"KyPa0e:RvIhPd;wjOG7e:edHC5b;al5F3e:edHC5b;\"><div aria-label=\"About this Result\" class=\"iTPLzd GUHazd lUn2nc eY4mx\" jsaction=\"RvIhPd\" jsname=\"I3kE2c\" role=\"button\" style=\"padding-bottom:20px;padding-right:5px;position:absolute\" tabindex=\"0\"><span class=\"D6lY4c\" jsname=\"czHhOd\"><span class=\"xTFaxe IjabWd z1asCe SaPW2b\" jsname=\"Bil8Ae\" style=\"height:18px;line-height:18px;width:18px\"><svg focusable=\"false\" viewbox=\"0 0 24 24\" xmlns=\"http://www.w3.org/2000/svg\"><path d=\"M12 8c1.1 0 2-.9 2-2s-.9-2-2-2-2 .9-2 2 .9 2 2 2zm0 2c-1.1 0-2 .9-2 2s.9 2 2 2 2-.9 2-2-.9-2-2-2zm0 6c-1.1 0-2 .9-2 2s.9 2 2 2 2-.9 2-2-.9-2-2-2z\"></path></svg></span></span></div><span data-ved=\"2ahUKEwi1tOXqx7H3AhWf63MBHS3_DG4Qh-4GegQIKxAD\" jsdata=\"l7Bhpb;_;CWS4zA cECq7c;_;CWS41I\" jsmodel=\"QaFSEb\" jsname=\"zOVa8\"></span></div></div></div></div></div></div><div class=\"NJo7tc Z26q7c uUuwM\" data-content-feature=\"1\"><div class=\"VwiC3b yXK7lf MUxGbd yDYNvb lyLwlc lEBKkf\" style=\"-webkit-line-clamp:2\"><span>If you're ready to get started with your fitness journey or are just looking for a new workout environment, <em>CrossFit</em> Recursive in <em>Madison</em>, WI.</span></div></div><div class=\"NJo7tc Z26q7c\"><div data-ved=\"2ahUKEwi1tOXqx7H3AhWf63MBHS3_DG4Q2Z0BegQIJRAA\" id=\"eob_4\" jsaction=\"rcuQ6b:npT2md\" jscontroller=\"K6HGfd\" jsdata=\"fxg5tf;_;CWS40o\"></div></div></div></div>]"
      ]
     },
     "execution_count": 8,
     "metadata": {},
     "output_type": "execute_result"
    }
   ],
   "source": [
    "main_div = soup.find('div', attrs = {'id' : 'center_col' , 'class' : 's6JM6d'})\n",
    "required_divs = main_div.find_all('div', attrs = {'class' : 'tF2Cxc'})\n",
    "required_divs"
   ]
  },
  {
   "cell_type": "code",
   "execution_count": 9,
   "id": "76c4df37",
   "metadata": {},
   "outputs": [],
   "source": [
    "target_list = None\n",
    "\n",
    "# urls = main_div.find_all('div', attrs = {'class' : 'TbwUpd NJjxre'})\n",
    "# page_name = main_div.find_all('h3', attrs ={'class' : 'LC20lb MBeuO DKV0Md'})\n",
    "# description = main_div.find_all('div', attrs = {'class' : 'NJo7tc Z26q7c uUuwM'})"
   ]
  },
  {
   "cell_type": "code",
   "execution_count": 10,
   "id": "c12ac5d8",
   "metadata": {},
   "outputs": [],
   "source": [
    "# CREATE EMPTY LIST TO STORE STUFF\n",
    "serp_data_page_1 = []\n",
    "\n",
    "# CREATE EMPTY DICTIONARY\n",
    "serp_page_dict = {}"
   ]
  },
  {
   "cell_type": "code",
   "execution_count": 11,
   "id": "bd3db996",
   "metadata": {},
   "outputs": [
    {
     "name": "stdout",
     "output_type": "stream",
     "text": [
      "https://www.visitmadison.com/crossfit-games/\n",
      "https://crossfitmadison.com/\n",
      "https://www.facebook.com/CrossFitMadison/\n",
      "https://www.crossfitconnex.com/\n",
      "https://www.hammonassetcrossfit.com/\n",
      "https://crossfitcitrine.com/\n",
      "https://recursivefitness.com/\n"
     ]
    }
   ],
   "source": [
    "for items in required_divs:\n",
    "    \n",
    "    urls = items.find('div', attrs = {'class' : 'yuRUbf'})(href=True)\n",
    "    for x in urls:\n",
    "        req_urls = x['href']\n",
    "     \n",
    "        \n",
    "    page_name = items.find('h3', attrs ={'class' : 'LC20lb MBeuO DKV0Md'})\n",
    "    description = items.find('div', attrs = {'class' : 'lEBKkf'})\n",
    "    \n",
    "    print(req_urls)\n",
    "#     print(page_name.text)\n",
    "#     print(description.text)\n",
    "    \n",
    "    temp_dict = {}\n",
    "    \n",
    "    # saving these in the dictionary\n",
    "    temp_dict['url'] = req_urls\n",
    "    temp_dict['webpage_name'] = page_name.text\n",
    "    temp_dict['description'] = description.text\n",
    "    \n",
    "    serp_data_page_1.append(temp_dict)"
   ]
  },
  {
   "cell_type": "code",
   "execution_count": 12,
   "id": "e6bba0ad",
   "metadata": {},
   "outputs": [
    {
     "data": {
      "text/plain": [
       "[{'url': 'https://www.visitmadison.com/crossfit-games/',\n",
       "  'webpage_name': 'the 2022 nobull crossfit games - Destination Madison',\n",
       "  'description': 'Elite athletes from around the globe return to Madison, WI for the 2021 NOBULL CrossFit Games.'},\n",
       " {'url': 'https://crossfitmadison.com/',\n",
       "  'webpage_name': 'CrossFit Madison',\n",
       "  'description': 'Our trainers take your fitness goals seriously. We understand that losing weight and gaining muscle can be challenging, and our goal is to help you overcome\\xa0...'},\n",
       " {'url': 'https://www.facebook.com/CrossFitMadison/',\n",
       "  'webpage_name': 'CrossFit Madison - Home | Facebook',\n",
       "  'description': 'We are the premier CrossFit gym located in Madison, AL. We are dedicated to improving your life in... 970-A Balch Rd, Madison, AL 35758.'},\n",
       " {'url': 'https://www.crossfitconnex.com/',\n",
       "  'webpage_name': 'CrossFit Connex | Forging Elite Fitness | CrossFit Madison, WI',\n",
       "  'description': 'CrossFit Connex is a fitness-training center in Madison, Wisconsin that provides a total fitness experience in both group and individual workout\\xa0...'},\n",
       " {'url': 'https://www.hammonassetcrossfit.com/',\n",
       "  'webpage_name': 'Hammonasset CrossFit - Madison, CT',\n",
       "  'description': 'Hammonasset CrossFit - Madison, CT - Hammonasset Crossfit is a full service health and fitness facility based in Madison Connecticut.'},\n",
       " {'url': 'https://crossfitcitrine.com/',\n",
       "  'webpage_name': 'CrossFit Citrine - Quite Possibly The Best Gym in Madison',\n",
       "  'description': 'CrossFit Citrine is a community-driven gym located in Madison with group classes where you can improve your fitness and live a healthier, fuller life.'},\n",
       " {'url': 'https://recursivefitness.com/',\n",
       "  'webpage_name': 'CrossFit Recursive | CrossFit, Personal Training, Nutrition and ...',\n",
       "  'description': \"If you're ready to get started with your fitness journey or are just looking for a new workout environment, CrossFit Recursive in Madison, WI.\"}]"
      ]
     },
     "execution_count": 12,
     "metadata": {},
     "output_type": "execute_result"
    }
   ],
   "source": [
    "serp_data_page_1"
   ]
  },
  {
   "cell_type": "code",
   "execution_count": null,
   "id": "9891ba90",
   "metadata": {},
   "outputs": [],
   "source": []
  }
 ],
 "metadata": {
  "kernelspec": {
   "display_name": "Python 3 (ipykernel)",
   "language": "python",
   "name": "python3"
  },
  "language_info": {
   "codemirror_mode": {
    "name": "ipython",
    "version": 3
   },
   "file_extension": ".py",
   "mimetype": "text/x-python",
   "name": "python",
   "nbconvert_exporter": "python",
   "pygments_lexer": "ipython3",
   "version": "3.7.6"
  }
 },
 "nbformat": 4,
 "nbformat_minor": 5
}
