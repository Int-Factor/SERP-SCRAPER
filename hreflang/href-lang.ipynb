{
 "cells": [
  {
   "cell_type": "code",
   "execution_count": null,
   "id": "bdb87c47",
   "metadata": {},
   "outputs": [],
   "source": [
    "# IMPORT LIBRAIRES\n",
    "import pandas as pd\n",
    "from bs4 import BeautifulSoup\n",
    "import requests"
   ]
  },
  {
   "cell_type": "code",
   "execution_count": null,
   "id": "05b8c4e1",
   "metadata": {},
   "outputs": [],
   "source": [
    "target_url = 'https://www.lyst.com/'\n",
    "# 'https://www.dollarshaveclub.com/'\n",
    "# 'https://www.ralphlauren.com/'\n",
    "# 'https://www.logitech.com/en-in'\n",
    "# 'https://www.harley-davidson.com/in/en/index.html'\n",
    "html = requests.get(target_url)"
   ]
  },
  {
   "cell_type": "code",
   "execution_count": null,
   "id": "f8b07f0e",
   "metadata": {},
   "outputs": [],
   "source": [
    "html.text"
   ]
  },
  {
   "cell_type": "code",
   "execution_count": null,
   "id": "66a03ce7",
   "metadata": {},
   "outputs": [],
   "source": [
    "soup = BeautifulSoup(html.content, 'lxml')"
   ]
  },
  {
   "cell_type": "code",
   "execution_count": null,
   "id": "287cbf9b",
   "metadata": {},
   "outputs": [],
   "source": [
    "links_of_webpage = soup.find_all('link', attrs = {'rel': 'alternate'})"
   ]
  },
  {
   "cell_type": "code",
   "execution_count": null,
   "id": "817a8a19",
   "metadata": {},
   "outputs": [],
   "source": [
    "soup"
   ]
  },
  {
   "cell_type": "code",
   "execution_count": null,
   "id": "c0a0e33a",
   "metadata": {},
   "outputs": [],
   "source": [
    "links_of_webpage"
   ]
  },
  {
   "cell_type": "code",
   "execution_count": null,
   "id": "be9c9aa7",
   "metadata": {},
   "outputs": [],
   "source": []
  }
 ],
 "metadata": {
  "kernelspec": {
   "display_name": "Python 3 (ipykernel)",
   "language": "python",
   "name": "python3"
  },
  "language_info": {
   "codemirror_mode": {
    "name": "ipython",
    "version": 3
   },
   "file_extension": ".py",
   "mimetype": "text/x-python",
   "name": "python",
   "nbconvert_exporter": "python",
   "pygments_lexer": "ipython3",
   "version": "3.7.6"
  }
 },
 "nbformat": 4,
 "nbformat_minor": 5
}
